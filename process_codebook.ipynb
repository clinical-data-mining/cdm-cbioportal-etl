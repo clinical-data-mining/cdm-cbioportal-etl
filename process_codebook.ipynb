{
 "cells": [
  {
   "cell_type": "code",
   "execution_count": 1,
   "id": "75039d93-8abd-4c43-8cec-c83d92573935",
   "metadata": {},
   "outputs": [],
   "source": [
    "import os\n",
    "import sys\n",
    "import pandas as pd\n",
    "import numpy as np\n",
    "sys.path.insert(0, os.path.abspath(os.path.join('', 'summary')))\n",
    "sys.path.insert(0, os.path.abspath(os.path.join('', 'utils')))\n",
    "sys.path.insert(0, os.path.abspath(os.path.join('', '..', 'cdm-utilities')))\n",
    "sys.path.insert(0, os.path.abspath(os.path.join('', '..', 'cdm-utilities', 'minio_api')))\n",
    "from data_classes_cdm import CDMProcessingVariables as config_cdm\n",
    "from minio_api import MinioAPI\n",
    "from utils import mrn_zero_pad, print_df_without_index, set_debug_console\n",
    "from get_anchor_dates import get_anchor_dates\n",
    "from create_summary_from_redcap_reports import RedcapToCbioportalFormat\n",
    "from cbioportal_summary_file_combiner import cbioportalSummaryFileCombiner\n",
    "\n"
   ]
  },
  {
   "cell_type": "code",
   "execution_count": 2,
   "id": "c8d39d08-4fcf-4cfd-9dc4-3faf078cc382",
   "metadata": {},
   "outputs": [],
   "source": [
    "set_debug_console()\n",
    "\n"
   ]
  },
  {
   "cell_type": "code",
   "execution_count": 7,
   "id": "f4c1fe42-4b09-4b96-82be-c94270b849d7",
   "metadata": {},
   "outputs": [],
   "source": [
    "# ## Define hardcoded variables\n",
    "# ### Filenames\n",
    "# #### Redcap report manifest files\n",
    "# FNAME_MANIFEST_PATIENT = 'cbioportal/summary_manifest_patient_test.csv'\n",
    "# FNAME_MANIFEST_SAMPLE = 'cbioportal/summary_manifest_sample_test.csv'\n",
    "# #### Current summary files\n",
    "# FNAME_SUMMARY_TEMPLATE_P = config_cdm.fname_p_sum_template\n",
    "# FNAME_SUMMARY_TEMPLATE_S = config_cdm.fname_s_sum_template\n",
    "# #### Summary files to save (datahub)\n",
    "# FNAME_SUMMARY_P = config_cdm.fname_summary_patient + '.tsv'\n",
    "# FNAME_SUMMARY_S = config_cdm.fname_summary_sample + '.tsv'\n",
    "# #### Summary files to save (MinIO)\n",
    "# FNAME_SUMMARY_P_MINIO = config_cdm.fname_summary_patient_minio\n",
    "# FNAME_SUMMARY_S_MINIO = config_cdm.fname_summary_sample_minio\n",
    "# MINIO\n",
    "ENV_MINIO = config_cdm.minio_env\n",
    "# Data dictionary\n",
    "path = '/mind_data/cdm_repos/cdm-utilities/docs/dev/'\n",
    "fname_metadata = os.path.join(path, 'CDM-Codebook - metadata.csv')\n",
    "fname_project = os.path.join(path, 'CDM-Codebook - project.csv')\n",
    "fname_tables = os.path.join(path, 'CDM-Codebook - tables.csv')"
   ]
  },
  {
   "cell_type": "code",
   "execution_count": 8,
   "id": "fc32fef4-df94-4404-b181-832ee9adbf10",
   "metadata": {},
   "outputs": [],
   "source": [
    "# ### Columns of interest for joining or removing\n",
    "# COL_PID = 'DMP_ID'\n",
    "# COL_PID_CBIO = 'PATIENT_ID'\n",
    "\n",
    "\n"
   ]
  },
  {
   "cell_type": "code",
   "execution_count": 9,
   "id": "10fa29e5-bd6c-4d6e-85d4-6cfe833e55f4",
   "metadata": {},
   "outputs": [],
   "source": [
    "patient_or_sample = 'patient'\n",
    "\n",
    "\n"
   ]
  },
  {
   "cell_type": "code",
   "execution_count": 10,
   "id": "dd746b9b-e75c-4b19-9272-a90a18d3f71e",
   "metadata": {},
   "outputs": [
    {
     "name": "stdout",
     "output_type": "stream",
     "text": [
      "q8d0\n",
      "c8BW\n"
     ]
    }
   ],
   "source": [
    "obj_minio = MinioAPI(fname_minio_env=ENV_MINIO)\n"
   ]
  },
  {
   "cell_type": "code",
   "execution_count": 5,
   "id": "ca66a48e-90fb-46c4-8a6a-6db6f5b82011",
   "metadata": {},
   "outputs": [
    {
     "ename": "NameError",
     "evalue": "name 'RedcapToCbioportalFormat' is not defined",
     "output_type": "error",
     "traceback": [
      "\u001B[0;31m---------------------------------------------------------------------------\u001B[0m",
      "\u001B[0;31mNameError\u001B[0m                                 Traceback (most recent call last)",
      "\u001B[0;32m<ipython-input-5-6ef1f84a5f04>\u001B[0m in \u001B[0;36m<module>\u001B[0;34m\u001B[0m\n\u001B[0;32m----> 1\u001B[0;31m \u001B[0mobj_format_cbio\u001B[0m \u001B[0;34m=\u001B[0m \u001B[0mRedcapToCbioportalFormat\u001B[0m\u001B[0;34m(\u001B[0m\u001B[0;34m)\u001B[0m\u001B[0;34m\u001B[0m\u001B[0;34m\u001B[0m\u001B[0m\n\u001B[0m\u001B[1;32m      2\u001B[0m \u001B[0;34m\u001B[0m\u001B[0m\n\u001B[1;32m      3\u001B[0m \u001B[0;34m\u001B[0m\u001B[0m\n",
      "\u001B[0;31mNameError\u001B[0m: name 'RedcapToCbioportalFormat' is not defined"
     ]
    }
   ],
   "source": [
    "obj_format_cbio = RedcapToCbioportalFormat()\n",
    "\n",
    "\n"
   ]
  },
  {
   "cell_type": "code",
   "execution_count": 6,
   "id": "963e6ba7-cb0d-494e-b878-f45559e91a93",
   "metadata": {},
   "outputs": [
    {
     "ename": "NameError",
     "evalue": "name 'obj_format_cbio' is not defined",
     "output_type": "error",
     "traceback": [
      "\u001B[0;31m---------------------------------------------------------------------------\u001B[0m",
      "\u001B[0;31mNameError\u001B[0m                                 Traceback (most recent call last)",
      "\u001B[0;32m<ipython-input-6-fbb768bd373d>\u001B[0m in \u001B[0;36m<module>\u001B[0;34m\u001B[0m\n\u001B[0;32m----> 1\u001B[0;31m \u001B[0mdf_manifest\u001B[0m \u001B[0;34m=\u001B[0m \u001B[0mobj_format_cbio\u001B[0m\u001B[0;34m.\u001B[0m\u001B[0mreturn_manifest\u001B[0m\u001B[0;34m(\u001B[0m\u001B[0;34m)\u001B[0m\u001B[0;34m\u001B[0m\u001B[0;34m\u001B[0m\u001B[0m\n\u001B[0m\u001B[1;32m      2\u001B[0m \u001B[0mdf_manifest\u001B[0m\u001B[0;34m\u001B[0m\u001B[0;34m\u001B[0m\u001B[0m\n",
      "\u001B[0;31mNameError\u001B[0m: name 'obj_format_cbio' is not defined"
     ]
    }
   ],
   "source": [
    "df_manifest = obj_format_cbio.return_manifest()\n",
    "df_manifest\n"
   ]
  },
  {
   "cell_type": "code",
   "execution_count": 7,
   "id": "e82f6db9-49b7-4ac6-9160-8be95a897cde",
   "metadata": {},
   "outputs": [
    {
     "ename": "NameError",
     "evalue": "name 'obj_format_cbio' is not defined",
     "output_type": "error",
     "traceback": [
      "\u001B[0;31m---------------------------------------------------------------------------\u001B[0m",
      "\u001B[0;31mNameError\u001B[0m                                 Traceback (most recent call last)",
      "\u001B[0;32m<ipython-input-7-101059f056a4>\u001B[0m in \u001B[0;36m<module>\u001B[0;34m\u001B[0m\n\u001B[0;32m----> 1\u001B[0;31m obj_format_cbio.create_summaries_and_headers(\n\u001B[0m\u001B[1;32m      2\u001B[0m     \u001B[0mpatient_or_sample\u001B[0m\u001B[0;34m=\u001B[0m\u001B[0mpatient_or_sample\u001B[0m\u001B[0;34m\u001B[0m\u001B[0;34m\u001B[0m\u001B[0m\n\u001B[1;32m      3\u001B[0m )\n",
      "\u001B[0;31mNameError\u001B[0m: name 'obj_format_cbio' is not defined"
     ]
    }
   ],
   "source": [
    "obj_format_cbio.create_summaries_and_headers(\n",
    "    patient_or_sample=patient_or_sample\n",
    ")"
   ]
  },
  {
   "cell_type": "code",
   "execution_count": 8,
   "id": "8419e2db-8ba0-475e-8884-abac70952fdb",
   "metadata": {},
   "outputs": [
    {
     "ename": "NameError",
     "evalue": "name 'obj_format_cbio' is not defined",
     "output_type": "error",
     "traceback": [
      "\u001B[0;31m---------------------------------------------------------------------------\u001B[0m",
      "\u001B[0;31mNameError\u001B[0m                                 Traceback (most recent call last)",
      "\u001B[0;32m<ipython-input-8-b3870593cc00>\u001B[0m in \u001B[0;36m<module>\u001B[0;34m\u001B[0m\n\u001B[0;32m----> 1\u001B[0;31m \u001B[0mdf_manifest_s\u001B[0m \u001B[0;34m=\u001B[0m \u001B[0mobj_format_cbio\u001B[0m\u001B[0;34m.\u001B[0m\u001B[0mreturn_manifest\u001B[0m\u001B[0;34m(\u001B[0m\u001B[0;34m)\u001B[0m\u001B[0;34m\u001B[0m\u001B[0;34m\u001B[0m\u001B[0m\n\u001B[0m",
      "\u001B[0;31mNameError\u001B[0m: name 'obj_format_cbio' is not defined"
     ]
    }
   ],
   "source": [
    "df_manifest_s = obj_format_cbio.return_manifest()"
   ]
  },
  {
   "cell_type": "code",
   "execution_count": 9,
   "id": "9bfd6cf2-8099-4817-a583-555f8e00eae4",
   "metadata": {},
   "outputs": [
    {
     "ename": "NameError",
     "evalue": "name 'df_manifest_s' is not defined",
     "output_type": "error",
     "traceback": [
      "\u001B[0;31m---------------------------------------------------------------------------\u001B[0m",
      "\u001B[0;31mNameError\u001B[0m                                 Traceback (most recent call last)",
      "\u001B[0;32m<ipython-input-9-936ead7e8a3f>\u001B[0m in \u001B[0;36m<module>\u001B[0;34m\u001B[0m\n\u001B[0;32m----> 1\u001B[0;31m \u001B[0mdf_manifest_s\u001B[0m\u001B[0;34m\u001B[0m\u001B[0;34m\u001B[0m\u001B[0m\n\u001B[0m",
      "\u001B[0;31mNameError\u001B[0m: name 'df_manifest_s' is not defined"
     ]
    }
   ],
   "source": [
    "df_manifest_s"
   ]
  },
  {
   "cell_type": "code",
   "execution_count": 10,
   "id": "2230425a-3e57-491f-932f-d5b2a677a5d0",
   "metadata": {},
   "outputs": [
    {
     "ename": "NameError",
     "evalue": "name 'fname_metadata' is not defined",
     "output_type": "error",
     "traceback": [
      "\u001B[0;31m---------------------------------------------------------------------------\u001B[0m",
      "\u001B[0;31mNameError\u001B[0m                                 Traceback (most recent call last)",
      "\u001B[0;32m<ipython-input-10-5c28cbdf3246>\u001B[0m in \u001B[0;36m<module>\u001B[0;34m\u001B[0m\n\u001B[0;32m----> 1\u001B[0;31m \u001B[0mdf_metadata\u001B[0m \u001B[0;34m=\u001B[0m \u001B[0mpd\u001B[0m\u001B[0;34m.\u001B[0m\u001B[0mread_csv\u001B[0m\u001B[0;34m(\u001B[0m\u001B[0mfname_metadata\u001B[0m\u001B[0;34m)\u001B[0m\u001B[0;34m\u001B[0m\u001B[0;34m\u001B[0m\u001B[0m\n\u001B[0m\u001B[1;32m      2\u001B[0m \u001B[0mdf_project\u001B[0m \u001B[0;34m=\u001B[0m \u001B[0mpd\u001B[0m\u001B[0;34m.\u001B[0m\u001B[0mread_csv\u001B[0m\u001B[0;34m(\u001B[0m\u001B[0mfname_project\u001B[0m\u001B[0;34m)\u001B[0m\u001B[0;34m\u001B[0m\u001B[0;34m\u001B[0m\u001B[0m\n\u001B[1;32m      3\u001B[0m \u001B[0mdf_tables\u001B[0m \u001B[0;34m=\u001B[0m \u001B[0mpd\u001B[0m\u001B[0;34m.\u001B[0m\u001B[0mread_csv\u001B[0m\u001B[0;34m(\u001B[0m\u001B[0mfname_tables\u001B[0m\u001B[0;34m)\u001B[0m\u001B[0;34m\u001B[0m\u001B[0;34m\u001B[0m\u001B[0m\n",
      "\u001B[0;31mNameError\u001B[0m: name 'fname_metadata' is not defined"
     ]
    }
   ],
   "source": [
    "df_metadata = pd.read_csv(fname_metadata)\n",
    "df_project = pd.read_csv(fname_project)\n",
    "df_tables = pd.read_csv(fname_tables)"
   ]
  },
  {
   "cell_type": "code",
   "execution_count": 9,
   "id": "e511dae9-bbd8-47b5-9a02-2af132f7cc42",
   "metadata": {},
   "outputs": [
    {
     "name": "stdout",
     "output_type": "stream",
     "text": [
      "Loading pathology/table_pathology_clean.tsv\n"
     ]
    }
   ],
   "source": [
    "df_anchor = get_anchor_dates()\n",
    "\n"
   ]
  },
  {
   "cell_type": "code",
   "execution_count": 13,
   "id": "1b9d1adb-1445-4dc8-8bfe-b5586bc3c373",
   "metadata": {},
   "outputs": [
    {
     "data": {
      "text/plain": [
       "1                     demographics/ddp_demographics.tsv\n",
       "8           diagnosis/IMPACT_Darwin_Patient_Summary.tsv\n",
       "9                  diagnosis/table_met_site_summary.tsv\n",
       "16                  insurance/ddp_insurance_summary.tsv\n",
       "31             medications/table_tx_summary_patient.tsv\n",
       "35    comorbidities/ddp_comorbidities_index_summary.tsv\n",
       "44         comorbidities/smoking_status_predictions.tsv\n",
       "Name: cdm_source_table, dtype: object"
      ]
     },
     "execution_count": 13,
     "metadata": {},
     "output_type": "execute_result"
    }
   ],
   "source": [
    "# Get form names that contain data elements to host on cbioportal\n",
    "logic_for_cbio = df_metadata['for_cbioportal'] == 'x'\n",
    "forms = df_metadata.loc[logic_for_cbio, 'form_name'].unique()\n",
    "\n",
    "# From form names, get corresponding tables and their filenames\n",
    "f1 = df_tables['form_name'].isin(forms)\n",
    "\n",
    "\n",
    "if patient_or_sample == 'sample':\n",
    "    id_label = '#Sample Identifier'\n",
    "    fname_manifest = FNAME_MANIFEST_SAMPLE\n",
    "    fname_template = FNAME_SUMMARY_TEMPLATE_S\n",
    "    f2 = df_tables['cbio_summary_id_sample'].notnull()\n",
    "    col_id_change = 'SAMPLE_ID'\n",
    "elif patient_or_sample == 'patient':\n",
    "    id_label = '#Patient Identifier'\n",
    "    fname_manifest = FNAME_MANIFEST_PATIENT\n",
    "    fname_template = FNAME_SUMMARY_TEMPLATE_P\n",
    "    f2 = df_tables['cbio_summary_id_sample'].isnull()\n",
    "    col_id_change = 'PATIENT_ID'\n",
    "    \n",
    "    \n",
    "active_tables = df_tables.loc[f1&f2]\n",
    "list_fname_minio = active_tables['cdm_source_table']\n",
    "list_fname_minio"
   ]
  },
  {
   "cell_type": "code",
   "execution_count": 14,
   "id": "edee3c17-df6c-45ca-8649-60050e4bc882",
   "metadata": {},
   "outputs": [
    {
     "name": "stdout",
     "output_type": "stream",
     "text": [
      "demographics/ddp_demographics.tsv\n"
     ]
    },
    {
     "name": "stderr",
     "output_type": "stream",
     "text": [
      "/mind_data/cdm_repos/cdm-utilities/utils.py:40: SettingWithCopyWarning: \n",
      "A value is trying to be set on a copy of a slice from a DataFrame.\n",
      "Try using .loc[row_indexer,col_indexer] = value instead\n",
      "\n",
      "See the caveats in the documentation: https://pandas.pydata.org/pandas-docs/stable/user_guide/indexing.html#returning-a-view-versus-a-copy\n",
      "  df[col_mrn] = df[col_mrn].astype(str).str.zfill(8)\n"
     ]
    },
    {
     "name": "stdout",
     "output_type": "stream",
     "text": [
      "Saving cbioportal/demographics_data.csv\n",
      "   PT_DEATH_DTE  MRN_CREATE_DTE  GENDER MARITAL_STATUS        RELIGION   RACE                                          ETHNICITY  PLA_LAST_CONTACT_DTE  PLA_LAST_ACTV_DTE  PLA_LAST_ADM_DTE  PLA_LAST_DSCH_DTE  PLA_LAST_APPT_DTE  PLA_LAST_DRVST_DTE  PLA_LAST_TX_DTE  PLA_LAST_SURG_DTE  PLA_LAST_RT_DTE PATIENT_ID\n",
      "0           NaN         -9054.0    MALE         SINGLE  CATHOLIC/ROMAN  WHITE  Non-Spanish; Non-Hispanic                     ...                 172.0              326.0           -8845.0            -8844.0              172.0               158.0            326.0              326.0          -8813.0  P-0078271\n",
      "1           NaN         -6916.0    MALE         SINGLE            NONE  WHITE  Non-Spanish; Non-Hispanic                     ...                2123.0             2123.0               0.0                3.0             2123.0              2123.0              0.0                0.0              NaN  P-0015526\n",
      "2         333.0         -6090.0  FEMALE        MARRIED          JEWISH  WHITE  Non-Spanish; Non-Hispanic                     ...                 333.0              333.0             294.0              304.0              294.0               287.0            301.0              301.0           -131.0  P-0001115\n",
      "3           NaN         -4776.0  FEMALE        WIDOWED    PRESBYTERIAN  WHITE  Non-Spanish; Non-Hispanic                     ...                2413.0             2413.0           -4762.0            -4760.0             2413.0              2413.0          -1123.0            -1187.0              NaN  P-0002243\n",
      "4          56.0         -6456.0    MALE        MARRIED  CATHOLIC/ROMAN  WHITE  Non-Spanish; Non-Hispanic                     ...                  56.0               56.0              22.0               56.0               22.0                21.0             38.0               38.0             21.0  P-0043097\n",
      "Saving cbioportal/demographics_header.csv\n",
      "             label                      comment data_type  visible         heading\n",
      "3       Death Date                Date of death    NUMBER        1    PT_DEATH_DTE\n",
      "4  MRN Create Date  Date MRN was created at MSK    NUMBER        1  MRN_CREATE_DTE\n",
      "5           Gender                       Gender    STRING        1          GENDER\n",
      "6   Marital Status               Marital Status    STRING        1  MARITAL_STATUS\n",
      "7          Religon                      Religon    STRING        1        RELIGION\n",
      "diagnosis/IMPACT_Darwin_Patient_Summary.tsv\n",
      "Saving cbioportal/patient_diagnosis_summary_data.csv\n",
      "  PATIENT_ID  NUM_IMPACT_SAMPLES  NUM_PRIMARY_DX_IMPACT  HAS_MULTIPLE_PRIMARY_DX_IMPACT  NUM_PRIMARY_SAMPLES  NUM_MET_SAMPLES  HAS_IMPACT_MET  HAS_DX_AVAILABLE  DATE_AT_FIRST_ICDO_DX  DATE_AT_FIRST_MET_DX_ICD10  DATE_AT_FIRST_MET_DX_ICD10_NON_LN_OTHER HAS_STAGE_IV_DX HAS_STAGE_IV_DX_SOLID HAS_ICDO_REGIONAL_SPREAD HAS_ICDO_DISTANT_SPREAD HAS_ICDO_DISTANT_SPREAD_SOLID HAS_ICD10_MET_DX HAS_ICDO_MET_DX  DATE_AT_FIRST_MET_DX_ICDO_SOLID  NUM_ICDO_DX  NUM_PRIMARY_DX_CLINICAL HAS_MULTIPLE_PRIMARY_DX_CLINICAL  DT_FIRST_LAST_DX_DAYS HAS_ONLY_LN_OR_OTHER_MET_ICD_BILLING  HAS_ICD10_MET_DX_FILTERED  HAS_ONE_PRIMARY_DX  DATE_AT_FIRST_MET_RADIOLOGY  HAS_METS_RADIOLOGY  DATE_AT_FIRST_MET_DX_IMPACT  HAS_HISTORY_OF_MET  DATE_AT_FIRST_MET_DX                      SOURCE_FIRST_MET_DX\n",
      "0  P-0000004                   1                      1                           False                    1                0           False              True                 -992.0                       -32.0                                    -32.0           False                 False                    False                   False                         False             True           False                              NaN          1.0                      1.0                            False                    0.0                                False                       True                True                          NaN               False                          NaN                True                 -32.0  DATE_AT_FIRST_MET_DX_ICD10_NON_LN_OTHER\n",
      "1  P-0000012                   3                      2                            True                    2                1            True              True                -9641.0                       -42.0                                    320.0           False                 False                    False                   False                         False             True           False                              NaN          2.0                      2.0                             True                 9599.0                                False                       True               False                         10.0                True                          0.0                True                   0.0              DATE_AT_FIRST_MET_DX_IMPACT\n",
      "2  P-0000015                   1                      1                           False                    0                1            True              True                -2559.0                       -71.0                                    -71.0           False                 False                    False                   False                         False             True           False                              NaN          1.0                      1.0                            False                    0.0                                False                       True                True                        -90.0                True                         -7.0                True                 -90.0              DATE_AT_FIRST_MET_RADIOLOGY\n",
      "3  P-0000023                   1                      1                           False                    1                0           False              True                 -244.0                      -224.0                                   -224.0           False                 False                    False                   False                         False             True           False                              NaN          1.0                      1.0                            False                    0.0                                False                       True                True                       -247.0                True                          NaN                True                -247.0              DATE_AT_FIRST_MET_RADIOLOGY\n",
      "4  P-0000024                   1                      1                           False                    0                1            True              True                -6309.0                      -674.0                                   -121.0           False                 False                    False                   False                         False             True           False                              NaN          2.0                      1.0                            False                 5616.0                                False                       True                True                       -693.0                True                       -121.0                True                -693.0              DATE_AT_FIRST_MET_RADIOLOGY\n",
      "Saving cbioportal/patient_diagnosis_summary_header.csv\n",
      "                                        label                                            comment data_type  visible                         heading\n",
      "31                        #Patient Identifier                                         PATIENT_ID       NaN      NaN                      PATIENT_ID\n",
      "148                  Number of IMPACT Samples   Number of IMPACT sequenced samples a patient has    STRING      1.0              NUM_IMPACT_SAMPLES\n",
      "149     Number of Distinct Primaries (IMPACT)  Number of Distinct Primaries, according to the...    STRING      1.0           NUM_PRIMARY_DX_IMPACT\n",
      "150  Indicator Patient has Multiple Primaries                  True if NUM_PRIMARY_DX_IMPACT > 1    STRING      1.0  HAS_MULTIPLE_PRIMARY_DX_IMPACT\n",
      "151        Number of IMPACT Samples (Primary)         Number of IMPACT sequenced primary samples    STRING      1.0             NUM_PRIMARY_SAMPLES\n",
      "diagnosis/table_met_site_summary.tsv\n",
      "Saving cbioportal/metastatic_site_summary_data.csv\n",
      "  METASTATIC_SITE_ADRENAL_GLAND METASTATIC_SITE_BONE METASTATIC_SITE_CNS_BRAIN METASTATIC_SITE_INTRA_ABDOMINAL METASTATIC_SITE_LIVER METASTATIC_SITE_LUNG METASTATIC_SITE_LYMPH METASTATIC_SITE_MEDIASTINUM METASTATIC_SITE_OTHER METASTATIC_SITE_PLEURA METASTATIC_SITE_REPRODUCTIVE_ORGANS PATIENT_ID\n",
      "0                            No                  Yes                        No                              No                    No                  Yes                   Yes                          No                    No                     No                                  No  P-0015526\n",
      "1                            No                  Yes                        No                             Yes                    No                   No                   Yes                          No                   Yes                     No                                 Yes  P-0001115\n",
      "2                            No                  Yes                        No                             Yes                   Yes                  Yes                   Yes                          No                   Yes                     No                                  No  P-0002243\n",
      "3                            No                   No                       Yes                              No                    No                   No                    No                          No                   Yes                     No                                  No  P-0043097\n",
      "4                            No                  Yes                        No                              No                   Yes                   No                    No                          No                    No                     No                                  No  P-0096080\n",
      "Saving cbioportal/metastatic_site_summary_header.csv\n",
      "                                label                                            comment data_type  visible                          heading\n",
      "179    Metastatic Site: Adrenal Gland  History of Adrenal Gland Met via IMPACT sample...    STRING      1.0    METASTATIC_SITE_ADRENAL_GLAND\n",
      "180             Metastatic Site: Bone  History of Bone Met via IMPACT sample, radiolo...    STRING      1.0             METASTATIC_SITE_BONE\n",
      "181        Metastatic Site: CNS/Brain  History of CNS Met via IMPACT sample, radiolog...    STRING      1.0        METASTATIC_SITE_CNS_BRAIN\n",
      "182  Metastatic Site: Intra-abdominal  History of intra-abdominal Met via IMPACT samp...    STRING      1.0  METASTATIC_SITE_INTRA_ABDOMINAL\n",
      "183            Metastatic Site: Liver  History of liver Met via IMPACT sample, radiol...    STRING      1.0            METASTATIC_SITE_LIVER\n",
      "insurance/ddp_insurance_summary.tsv\n",
      "Saving cbioportal/insurance_summary_data.csv\n",
      "      MOST_RECENT_FSC_NAME  MOST_RECENT_INS_EFF_DATE MOST_RECENT_INSURANCE_CATEGORY                                      FSC_NAME_LIST  INS_EFF_DATE_LIST  INSURANCE_COMMERICAL_INDICATOR  INSURANCE_MEDICAID_INDICATOR  INSURANCE_MEDICARE_INDICATOR  INSURANCE_SELF_PAY_INDICATOR  INSURANCE_UNKNOWN_INDICATOR PATIENT_ID\n",
      "0        EMPIRE HEALTHPLUS                    -869.0                     Commercial                              ['EMPIRE HEALTHPLUS']                NaN                               1                             0                             0                             0                            0  P-0078271\n",
      "1                    CIGNA                    1543.0                     Commercial              ['CIGNA', 'CIGNA SECONDARY INSTANCE']                NaN                               1                             0                             0                             0                            0  P-0015526\n",
      "2         GHI CITY PRIMARY                    -434.0                     Commercial      ['GHI CITY PRIMARY', 'MEDICARE PART A AND B']                NaN                               1                             0                             1                             0                            0  P-0001115\n",
      "3             BSNJ/HORIZON                   -1059.0                     Commercial                                   ['BSNJ/HORIZON']                NaN                               1                             0                             0                             0                            0  P-0002243\n",
      "4  EMPIRE BLUE CROSS SPLIT                    -150.0                     Commercial  ['EMPIRE BLUE CROSS SPLIT', 'UNITED HEALTH CAR...                NaN                               1                             0                             1                             0                            0  P-0043097\n",
      "Saving cbioportal/insurance_summary_header.csv\n",
      "                                              label                                            comment data_type  visible                         heading\n",
      "247                    Insurance Name (Most Recent)                    Detailed name of insurance plan    STRING      1.0            MOST_RECENT_FSC_NAME\n",
      "248          Insurance Effective Date (Most Recent)                              Effective start date     NUMBER      1.0        MOST_RECENT_INS_EFF_DATE\n",
      "249  Insurance Category (Standardized, Most Recent)  Standardized insurance category of the most re...    STRING      1.0  MOST_RECENT_INSURANCE_CATEGORY\n",
      "250                       Insurance Name List (All)       List of all insurances available for patient    STRING      1.0                   FSC_NAME_LIST\n",
      "251                   Insurance Effective Date List  List of effective dates for insurances listed ...    NUMBER      1.0               INS_EFF_DATE_LIST\n",
      "medications/table_tx_summary_patient.tsv\n",
      "Saving cbioportal/medication_patient_summary_data.csv\n",
      "  BIOLOGIC_THERAPY BONE_TREATMENT_THERAPY CHEMO_THERAPY HORMONE_THERAPY IMMUNO_THERAPY OTHER_THERAPY TARGETED_THERAPY HISTORY_OF_RT PATIENT_ID\n",
      "0               No                     No           Yes              No             No            No               No    No History  P-0078271\n",
      "1               No                     No           Yes             Yes             No            No               No           Yes  P-0001115\n",
      "2               No                     No           Yes             Yes             No            No               No    No History  P-0002243\n",
      "3               No                     No           Yes              No             No            No               No           Yes  P-0043097\n",
      "4               No                     No           Yes              No             No            No              Yes           Yes  P-0005017\n",
      "Saving cbioportal/medication_patient_summary_header.csv\n",
      "                           label                                      comment data_type  visible                 heading\n",
      "375  History of Biologic Therapy  History of Biologic Therapy (Patient Level)    STRING      1.0        BIOLOGIC_THERAPY\n",
      "376      History of Bone Therapy      History of Bone Therapy (Patient Level)    STRING      1.0  BONE_TREATMENT_THERAPY\n",
      "377      History of Chemotherapy      History of Chemotherapy (Patient Level)    STRING      1.0           CHEMO_THERAPY\n",
      "378           History of Hormone           History of Hormone (Patient Level)    STRING      1.0         HORMONE_THERAPY\n",
      "379     History of Immunotherapy     History of Immunotherapy (Patient Level)    STRING      1.0          IMMUNO_THERAPY\n",
      "comorbidities/ddp_comorbidities_index_summary.tsv\n",
      "Saving cbioportal/comorbidity_index_score_data.csv\n",
      "   CCI_ANY_MALIGNANCY  CCI_CEREBROVASCULAR_DISEASE  CCI_CHRONIC_PULMONARY_DISEASE  CCI_CONGESTIVE_HEART_FAILURE  CCI_DEMENTIA  CCI_DIABETES  CCI_DIABETES_W_CHRONIC_COMPLICATION  CCI_HIV_AND_AIDS  CCI_HEMIPLEGIA_OR_PARAPLEGIA  CCI_METASTATIC_SOLID_TUMOR  CCI_MILD_LIVER_DISEASE  CCI_MODERATE_OR_SEVERE_LIVER_DISEASE  CCI_MYOCARDIAL_INFARCTION  CCI_PEPTIC_ULCER_DISEASE  CCI_PERIPHERAL_VASCULAR_DISEASE  CCI_RENAL_DISEASE  CCI_RHEUMATOLOGIC_DISEASE  NUM_COMORBIDITIES_NON_CANCER  HAS_MULTIPLE_COMORBIDITIES_NON_CANCER  CCI_AGE_AT_SEQ  CCI_SCORE  NCI_SCORE PATIENT_ID  HAS_LIVER_DISEASE  HAS_DIABETES\n",
      "0                   2                            0                              1                             1             0             0                                    0                 0                             0                           0                       0                                     0                          0                         0                                0                  0                          0                             2                                      1             0.0        4.0        2.0  P-0078271                  0             0\n",
      "1                   2                            0                              0                             0             0             0                                    0                 6                             0                           4                       0                                     0                          0                         0                                0                  2                          0                             2                                      1             0.0       14.0        8.0  P-0015526                  0             0\n",
      "2                   2                            0                              0                             0             0             0                                    0                 0                             0                           4                       0                                     0                          0                         0                                0                  0                          0                             0                                      0             3.0        9.0        3.0  P-0001115                  0             0\n",
      "3                   2                            0                              0                             0             0             0                                    0                 0                             0                           4                       1                                     0                          0                         0                                0                  0                          0                             1                                      0             1.0        8.0        2.0  P-0002243                  1             0\n",
      "4                   2                            0                              0                             0             0             1                                    2                 0                             0                           0                       0                                     0                          0                         0                                0                  0                          0                             1                                      0             3.0        8.0        6.0  P-0043097                  0             1\n",
      "Saving cbioportal/comorbidity_index_score_header.csv\n",
      "                               label                                            comment data_type  visible                        heading\n",
      "391             CCI - Any Malignancy  Charlson Comorbidity Index score contribution ...    STRING      1.0             CCI_ANY_MALIGNANCY\n",
      "392    CCI - Cerebrovascular Disease  Charlson Comorbidity Index score contribution ...    STRING      1.0    CCI_CEREBROVASCULAR_DISEASE\n",
      "393  CCI - Chronic Pulmonary Disease  Charlson Comorbidity Index score contribution ...    STRING      1.0  CCI_CHRONIC_PULMONARY_DISEASE\n",
      "394   CCI - Congestive Heart Failure  Charlson Comorbidity Index score contribution ...    STRING      1.0   CCI_CONGESTIVE_HEART_FAILURE\n",
      "395                   CCI - Dementia  Charlson Comorbidity Index score contribution ...    STRING      1.0                   CCI_DEMENTIA\n",
      "comorbidities/smoking_status_predictions.tsv\n"
     ]
    },
    {
     "name": "stderr",
     "output_type": "stream",
     "text": [
      "/mind_data/cdm_repos/cdm-utilities/utils.py:40: SettingWithCopyWarning: \n",
      "A value is trying to be set on a copy of a slice from a DataFrame.\n",
      "Try using .loc[row_indexer,col_indexer] = value instead\n",
      "\n",
      "See the caveats in the documentation: https://pandas.pydata.org/pandas-docs/stable/user_guide/indexing.html#returning-a-view-versus-a-copy\n",
      "  df[col_mrn] = df[col_mrn].astype(str).str.zfill(8)\n"
     ]
    },
    {
     "name": "stdout",
     "output_type": "stream",
     "text": [
      "Saving cbioportal/smoking_history_data.csv\n",
      "  PATIENT_ID SMOKING_PREDICTIONS_3_CLASSES SMOKING_PREDICTIONS_4_CLASSES\n",
      "0  P-0086671                         Never                         Never\n",
      "1  P-0079052                         Never                         Never\n",
      "2  P-0079026                         Never                         Never\n",
      "3  P-0078287                         Never                         Never\n",
      "4  P-0082629                         Never                         Never\n",
      "Saving cbioportal/smoking_history_header.csv\n",
      "                           label                                            comment data_type  visible                        heading\n",
      "2            #Patient Identifier                                         PATIENT_ID       NaN      NaN                     PATIENT_ID\n",
      "465  Smoking History (3 Classes)  Smoking history classes: Current/Former, Never...    STRING      1.0  SMOKING_PREDICTIONS_3_CLASSES\n",
      "466  Smoking History (4 Classes)  Smoking history classes: Current, Former, Neve...    STRING      1.0  SMOKING_PREDICTIONS_4_CLASSES\n",
      "Saving cbioportal/summary_manifest_patient_test.csv\n"
     ]
    }
   ],
   "source": [
    "# Initialize the manifest file\n",
    "obj_format_cbio.summary_manifest_init()\n",
    "\n",
    "for i,fname in enumerate(list_fname_minio):\n",
    "    obj = obj_minio.load_obj(path_object=fname)\n",
    "    df_ = pd.read_csv(obj, header=0, low_memory=False, sep='\\t')\n",
    "    form = df_tables.loc[list_fname_minio.index[i], 'form_name']\n",
    "    # print('-----------------------')\n",
    "    print(fname)\n",
    "    # print(form)\n",
    "    filt_table_use = logic_for_cbio & (df_metadata['form_name'] == form)\n",
    "    filt_col_dates = df_metadata.loc[filt_table_use]['text_validation_type_or_sh'] == 'date_mdy'\n",
    "    cols_to_use = list(df_metadata.loc[filt_table_use, 'field_name'])\n",
    "    cols_dates = list(df_metadata.loc[filt_table_use&filt_col_dates, 'field_name'])\n",
    "    key_patient = active_tables['cbio_summary_id_patient'].iloc[i]\n",
    "    key_sample = active_tables['cbio_summary_id_sample'].iloc[i]\n",
    "    \n",
    "    if pd.isna(key_sample):\n",
    "        \n",
    "        key = [key_patient]\n",
    "    else:\n",
    "        key = [key_sample, key_patient]\n",
    "        \n",
    "    cols_filter = key + list(cols_to_use)    \n",
    "    \n",
    "    # print(key)\n",
    "    # print(cols_filter)\n",
    "    # print(cols_dates)\n",
    "    \n",
    "    # Merge with anchor dates and de-id\n",
    "    df_select = df_[cols_filter]\n",
    "    \n",
    "    if (key_patient == 'MRN'):\n",
    "        df_select = mrn_zero_pad(df=df_select, col_mrn='MRN')\n",
    "        df_select = df_select.merge(right=df_anchor, how='inner', on='MRN')\n",
    "        df_select = df_select.drop(columns=['MRN'])\n",
    "    else:\n",
    "        df_anchor1 = df_anchor.drop(columns=['MRN'])\n",
    "        df_select = df_select.merge(\n",
    "            right=df_anchor1, \n",
    "            how='inner', \n",
    "            left_on=key_patient, \n",
    "            right_on='DMP_ID'\n",
    "        ) \n",
    "    # Convert dates to intervals\n",
    "    df_select[cols_dates] = df_select[cols_dates].apply(lambda x: pd.to_datetime(x, errors='coerce'))\n",
    "    df_select[cols_dates] = df_select[cols_dates].apply(lambda x: (x - df_select['DTE_PATH_PROCEDURE']).dt.days)\n",
    "    df_select = df_select.drop(columns=['DTE_PATH_PROCEDURE'])\n",
    "    df_select = df_select.rename(columns={'DMP_ID': COL_PID_CBIO})\n",
    "    df_select.columns = [x.upper().replace(' ', '_') for x in df_select.columns]\n",
    "    \n",
    "    \n",
    "    # Create header\n",
    "    cols_header = list(df_select.columns)\n",
    "    df_header = obj_format_cbio._format_data_dictionary(\n",
    "        df=df_metadata[filt_table_use]\n",
    "    )\n",
    "    length_header = df_header.shape[0]\n",
    "    df_header.loc[length_header, 'label'] = id_label\n",
    "    df_header.loc[length_header, 'data_type'] = np.NaN\n",
    "    df_header.loc[length_header, 'comment'] = col_id_change\n",
    "    df_header.loc[length_header, 'heading'] = col_id_change\n",
    "    # Reorder header entries to match summary file\n",
    "    sorterIndex = dict(zip(cols_header, range(len(cols_header))))\n",
    "    df_header['Rank'] = df_header['heading'].map(sorterIndex)\n",
    "    df_header.sort_values(by='Rank', ascending = True, inplace = True)\n",
    "    df_header.drop(columns=['Rank', 'is_date'], axis=1, inplace = True)\n",
    "    df_header['heading'] = df_header['heading'].str.upper().str.replace(' ', '_')\n",
    "    \n",
    "    # Reorder data columns to the header\n",
    "    df_select = df_select[list(df_header['heading'])]\n",
    "    \n",
    "\n",
    "    # Create manifest file\n",
    "    ## Modify/create manifest files --------------------------------------------------\n",
    "    fname_save_data = 'cbioportal/' + form.lower().replace(' ','_') + '_data.csv'\n",
    "    fname_save_header = 'cbioportal/' + form.lower().replace(' ','_') + '_header.csv'\n",
    "    ##### This file will be used for merging data    \n",
    "    obj_format_cbio.summary_manifest_append(\n",
    "        instr_name=form,\n",
    "        fname_df_save=fname_save_data,\n",
    "        fname_header_save=fname_save_header\n",
    "    )\n",
    "\n",
    "    ## Save data and header files --------------------------------------------------\n",
    "    ### Save cbioportal formatted patient level dx data and header files \n",
    "    print('Saving %s' % fname_save_data)\n",
    "    print(df_select.head())\n",
    "    obj_minio.save_obj(df=df_select, \n",
    "                       path_object=fname_save_data, \n",
    "                       sep=',')\n",
    "    print('Saving %s' % fname_save_header)\n",
    "    print(df_header.head())\n",
    "    obj_minio.save_obj(df=df_header, \n",
    "                       path_object=fname_save_header, \n",
    "                       sep=',')\n",
    "    \n",
    "    \n",
    "## Note: Continue appending manifest files here\n",
    "df_manifest_s = obj_format_cbio.return_manifest()\n",
    "##### Save manifest\n",
    "obj_format_cbio.summary_manifest_save(fname_save=fname_manifest)    \n",
    "    \n",
    "    "
   ]
  },
  {
   "cell_type": "code",
   "execution_count": 10,
   "id": "4b279f4d-bf23-400b-92cc-f4d9f98ed849",
   "metadata": {},
   "outputs": [],
   "source": [
    "\n"
   ]
  },
  {
   "cell_type": "code",
   "execution_count": 11,
   "id": "6c36a68d-9994-42a1-a5de-9aa90b7dcb26",
   "metadata": {},
   "outputs": [
    {
     "data": {
      "text/html": [
       "<div>\n",
       "<style scoped>\n",
       "    .dataframe tbody tr th:only-of-type {\n",
       "        vertical-align: middle;\n",
       "    }\n",
       "\n",
       "    .dataframe tbody tr th {\n",
       "        vertical-align: top;\n",
       "    }\n",
       "\n",
       "    .dataframe thead th {\n",
       "        text-align: right;\n",
       "    }\n",
       "</style>\n",
       "<table border=\"1\" class=\"dataframe\">\n",
       "  <thead>\n",
       "    <tr style=\"text-align: right;\">\n",
       "      <th></th>\n",
       "      <th>REPORT_NAME</th>\n",
       "      <th>SUMMARY_FILENAME</th>\n",
       "      <th>SUMMARY_HEADER_FILENAME</th>\n",
       "    </tr>\n",
       "  </thead>\n",
       "  <tbody>\n",
       "    <tr>\n",
       "      <th>0</th>\n",
       "      <td>Demographics</td>\n",
       "      <td>cbioportal/demographics_data.csv</td>\n",
       "      <td>cbioportal/demographics_header.csv</td>\n",
       "    </tr>\n",
       "    <tr>\n",
       "      <th>1</th>\n",
       "      <td>Patient Diagnosis Summary</td>\n",
       "      <td>cbioportal/patient_diagnosis_summary_data.csv</td>\n",
       "      <td>cbioportal/patient_diagnosis_summary_header.csv</td>\n",
       "    </tr>\n",
       "    <tr>\n",
       "      <th>2</th>\n",
       "      <td>Metastatic Site Summary</td>\n",
       "      <td>cbioportal/metastatic_site_summary_data.csv</td>\n",
       "      <td>cbioportal/metastatic_site_summary_header.csv</td>\n",
       "    </tr>\n",
       "    <tr>\n",
       "      <th>3</th>\n",
       "      <td>Insurance Summary</td>\n",
       "      <td>cbioportal/insurance_summary_data.csv</td>\n",
       "      <td>cbioportal/insurance_summary_header.csv</td>\n",
       "    </tr>\n",
       "    <tr>\n",
       "      <th>4</th>\n",
       "      <td>Medication Patient Summary</td>\n",
       "      <td>cbioportal/medication_patient_summary_data.csv</td>\n",
       "      <td>cbioportal/medication_patient_summary_header.csv</td>\n",
       "    </tr>\n",
       "    <tr>\n",
       "      <th>5</th>\n",
       "      <td>Comorbidity Index Score</td>\n",
       "      <td>cbioportal/comorbidity_index_score_data.csv</td>\n",
       "      <td>cbioportal/comorbidity_index_score_header.csv</td>\n",
       "    </tr>\n",
       "    <tr>\n",
       "      <th>6</th>\n",
       "      <td>Smoking History</td>\n",
       "      <td>cbioportal/smoking_history_data.csv</td>\n",
       "      <td>cbioportal/smoking_history_header.csv</td>\n",
       "    </tr>\n",
       "  </tbody>\n",
       "</table>\n",
       "</div>"
      ],
      "text/plain": [
       "                  REPORT_NAME                                SUMMARY_FILENAME                           SUMMARY_HEADER_FILENAME\n",
       "0                Demographics                cbioportal/demographics_data.csv                cbioportal/demographics_header.csv\n",
       "1   Patient Diagnosis Summary   cbioportal/patient_diagnosis_summary_data.csv   cbioportal/patient_diagnosis_summary_header.csv\n",
       "2     Metastatic Site Summary     cbioportal/metastatic_site_summary_data.csv     cbioportal/metastatic_site_summary_header.csv\n",
       "3           Insurance Summary           cbioportal/insurance_summary_data.csv           cbioportal/insurance_summary_header.csv\n",
       "4  Medication Patient Summary  cbioportal/medication_patient_summary_data.csv  cbioportal/medication_patient_summary_header.csv\n",
       "5     Comorbidity Index Score     cbioportal/comorbidity_index_score_data.csv     cbioportal/comorbidity_index_score_header.csv\n",
       "6             Smoking History             cbioportal/smoking_history_data.csv             cbioportal/smoking_history_header.csv"
      ]
     },
     "execution_count": 11,
     "metadata": {},
     "output_type": "execute_result"
    }
   ],
   "source": [
    "df_manifest_s"
   ]
  },
  {
   "cell_type": "code",
   "execution_count": 15,
   "id": "38ff7173-e298-4e76-bc47-abf44f5d77ca",
   "metadata": {},
   "outputs": [],
   "source": [
    "## Sample summary merging\n",
    "# obj_s_combiner = cbioportalSummaryFileCombiner(\n",
    "#     fname_minio_env=ENV_MINIO,\n",
    "#     fname_manifest=fname_manifest, \n",
    "#     fname_current_summary=fname_template, \n",
    "#     patient_or_sample=patient_or_sample\n",
    "# )\n",
    "\n",
    "# obj_s_combiner.save_update(fname=FNAME_SUMMARY_S)\n",
    "# df_cbio_summary_s = obj_s_combiner.return_final()"
   ]
  },
  {
   "cell_type": "code",
   "execution_count": null,
   "id": "52126b7b-1cdb-4f9a-a974-c6e1bc72b3e9",
   "metadata": {},
   "outputs": [],
   "source": []
  }
 ],
 "metadata": {
  "kernelspec": {
   "display_name": "env_cdm",
   "language": "python",
   "name": "env_cdm"
  },
  "language_info": {
   "codemirror_mode": {
    "name": "ipython",
    "version": 3
   },
   "file_extension": ".py",
   "mimetype": "text/x-python",
   "name": "python",
   "nbconvert_exporter": "python",
   "pygments_lexer": "ipython3",
   "version": "3.6.9"
  }
 },
 "nbformat": 4,
 "nbformat_minor": 5
}
