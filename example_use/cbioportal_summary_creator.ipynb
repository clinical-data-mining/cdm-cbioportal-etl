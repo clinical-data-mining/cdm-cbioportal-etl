{
 "cells": [
  {
   "metadata": {},
   "cell_type": "markdown",
   "source": [
    "\n",
    "# Summary File Creator for cBioPortal \n",
    "\n",
    "Create cBioPortal summary file(s) and corresponding headers from CDM data and codebook \n",
    "then combine into a single file to be pushed to cbioportal.\n",
    "\n",
    "Configuration is based on the yaml config file (fname_config) \n"
   ],
   "id": "14ccd1ac5f628691"
  },
  {
   "cell_type": "code",
   "source": [
    "from cdm_cbioportal_etl.summary import cbioportalSummaryFileCombiner\n",
    "from cdm_cbioportal_etl.summary import RedcapToCbioportalFormat\n",
    "from cdm_cbioportal_etl.utils import constants\n",
    "from cdm_cbioportal_etl.utils import yaml_config_parser\n",
    "\n",
    "\n",
    "COL_SUMMARY_FNAME_SAVE = constants.COL_SUMMARY_FNAME_SAVE\n",
    "COL_SUMMARY_HEADER_FNAME_SAVE = constants.COL_SUMMARY_HEADER_FNAME_SAVE"
   ],
   "metadata": {
    "collapsed": false
   },
   "id": "54e15ec72ebb892f",
   "outputs": [],
   "execution_count": null
  },
  {
   "metadata": {},
   "cell_type": "markdown",
   "source": "## YAML Configuration File Location",
   "id": "a4bd6613362dfa05"
  },
  {
   "metadata": {},
   "cell_type": "code",
   "source": [
    "# Location of yaml configuration file\n",
    "fname_config = '<path_to>/cdm-cbioportal-etl/config/etl_config_all_impact.yml'"
   ],
   "id": "33d175474ba6cb4b",
   "outputs": [],
   "execution_count": null
  },
  {
   "metadata": {},
   "cell_type": "markdown",
   "source": "## Parse the configuration file",
   "id": "c5b0d73d0af0d363"
  },
  {
   "metadata": {},
   "cell_type": "code",
   "source": [
    "obj_yaml = yaml_config_parser(fname_yaml_config=fname_config)\n",
    "fname_minio_env = obj_yaml.return_credential_filename()\n",
    "path_minio_summary_intermediate = obj_yaml.return_intermediate_folder_path()\n",
    "fname_meta_data = obj_yaml.return_filename_codebook_metadata()\n",
    "fname_meta_project = obj_yaml.return_filename_codebook_projects()\n",
    "fname_meta_table = obj_yaml.return_filename_codebook_tables()\n",
    "production_or_test = obj_yaml.return_production_or_test_indicator()\n",
    "\n",
    "fname_manifest_patient = obj_yaml.return_manifest_filename_patient()\n",
    "fname_summary_template_patient = obj_yaml.return_template_info()['fname_p_sum_template_cdsi']\n",
    "fname_summary_patient = obj_yaml.return_filenames_deid_datahub()['summary_patient']\n",
    "\n",
    "fname_manifest_sample = obj_yaml.return_manifest_filename_sample()\n",
    "fname_summary_template_sample = obj_yaml.return_template_info()['fname_s_sum_template_cdsi']\n",
    "fname_summary_sample = obj_yaml.return_filenames_deid_datahub()['summary_sample']\n",
    "\n",
    "# Create summary\n",
    "patient_or_sample = 'patient'\n"
   ],
   "id": "79b1f39ef05ad560",
   "outputs": [],
   "execution_count": null
  },
  {
   "metadata": {},
   "cell_type": "markdown",
   "source": [
    "## Create Summary File\n",
    "### Create object to load configuration info and codebook"
   ],
   "id": "a62ba367f5cf433b"
  },
  {
   "metadata": {},
   "cell_type": "code",
   "source": [
    "obj_format_cbio = RedcapToCbioportalFormat(\n",
    "    fname_minio_env=fname_minio_env,\n",
    "    path_minio_summary_intermediate=path_minio_summary_intermediate,\n",
    "    fname_metadata=fname_meta_data,\n",
    "    fname_metaproject=fname_meta_project,\n",
    "    fname_metatables=fname_meta_table\n",
    ")"
   ],
   "id": "6c62ffc7989b04c2",
   "outputs": [],
   "execution_count": null
  },
  {
   "metadata": {},
   "cell_type": "markdown",
   "source": "### Create summary files and corresonding headers",
   "id": "6ce1c10894b6fc39"
  },
  {
   "metadata": {},
   "cell_type": "code",
   "source": [
    "## Create individual summary and header files, with a manifest file summarizing the outputs\n",
    "obj_format_cbio.create_summaries_and_headers(\n",
    "    patient_or_sample=patient_or_sample,\n",
    "    fname_manifest=fname_manifest_patient,\n",
    "    fname_template=fname_summary_template_patient,\n",
    "    production_or_test=production_or_test\n",
    ")"
   ],
   "id": "196f27f1bf0eec9",
   "outputs": [],
   "execution_count": null
  },
  {
   "metadata": {},
   "cell_type": "markdown",
   "source": "### Combine summary and header files",
   "id": "b5adfc976f32e0e2"
  },
  {
   "cell_type": "code",
   "source": [
    "obj_p_combiner = cbioportalSummaryFileCombiner(\n",
    "    fname_minio_env=fname_minio_env,\n",
    "    fname_manifest=fname_manifest_patient,\n",
    "    fname_current_summary=fname_summary_template_patient,\n",
    "    patient_or_sample=patient_or_sample,\n",
    "    production_or_test=production_or_test\n",
    ")"
   ],
   "metadata": {
    "collapsed": false
   },
   "id": "5434fb3151accc94",
   "outputs": [],
   "execution_count": null
  },
  {
   "metadata": {},
   "cell_type": "markdown",
   "source": "### Return combined result and save",
   "id": "e9ed34f41d885ab6"
  },
  {
   "metadata": {},
   "cell_type": "code",
   "source": [
    "df_cbio_summary = obj_p_combiner.return_final()\n",
    "df_cbio_summary.head(10)"
   ],
   "id": "c2ff6e41d0f8116b",
   "outputs": [],
   "execution_count": null
  },
  {
   "metadata": {
    "collapsed": false
   },
   "cell_type": "code",
   "source": [
    "# Save the merged summaries to file\n",
    "obj_p_combiner.save_update(fname=fname_summary_patient)\n",
    "\n",
    "\n"
   ],
   "id": "11213e690a3c5cb0",
   "outputs": [],
   "execution_count": null
  },
  {
   "metadata": {},
   "cell_type": "code",
   "source": "",
   "id": "b3046d107ab3845f",
   "outputs": [],
   "execution_count": null
  }
 ],
 "metadata": {
  "kernelspec": {
   "name": "conda-env-cdm-fongc2",
   "language": "python",
   "display_name": "conda-env-cdm-fongc2"
  },
  "language_info": {
   "codemirror_mode": {
    "name": "ipython",
    "version": 3
   },
   "file_extension": ".py",
   "mimetype": "text/x-python",
   "name": "python",
   "nbconvert_exporter": "python",
   "pygments_lexer": "ipython3",
   "version": "3.6.9"
  }
 },
 "nbformat": 4,
 "nbformat_minor": 5
}
